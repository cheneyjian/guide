{
 "cells": [
  {
   "cell_type": "code",
   "execution_count": 2,
   "id": "acd3c355-35ae-4928-91dc-bb601b66da5d",
   "metadata": {},
   "outputs": [
    {
     "name": "stdout",
     "output_type": "stream",
     "text": [
      "This is a sample text.\n",
      "[DH IH1 S] [IH1 Z] [AH0] [S AE1 M P AH0 L] \n",
      "\n",
      "We will annotate this text with phonetics.\n",
      "[W IY1] [W IH1 L] [AE1 N AH0 T EY2 T] [DH IH1 S] [T EH1 K S T] [W IH1 DH] \n",
      "\n",
      "\n"
     ]
    },
    {
     "name": "stderr",
     "output_type": "stream",
     "text": [
      "[nltk_data] Downloading package punkt to /Users/chenjian/nltk_data...\n",
      "[nltk_data]   Package punkt is already up-to-date!\n"
     ]
    }
   ],
   "source": [
    "import nltk\n",
    "from nltk.corpus import cmudict\n",
    "import re\n",
    "from pronouncing import phones_for_word\n",
    "\n",
    "# 下载cmudict数据\n",
    "nltk.download('cmudict')\n",
    "\n",
    "# 加载cmudict数据\n",
    "cmu_dict = cmudict.dict()\n",
    "\n",
    "# 函数：获取单词的音标\n",
    "def get_pronunciation(word):\n",
    "    if word.lower() in cmu_dict:\n",
    "        return cmu_dict[word.lower()]\n",
    "    else:\n",
    "        return None\n",
    "\n",
    "# 函数：标注文本的音标\n",
    "def annotate_with_phonetic(text):\n",
    "    words = re.findall(r'\\b\\w+\\b', text)\n",
    "    annotated_text = \"\"\n",
    "    for word in words:\n",
    "        pronunciation = get_pronunciation(word)\n",
    "        if pronunciation:\n",
    "            annotated_text += f\"{word} {' '.join(pronunciation[0])} \"\n",
    "        else:\n",
    "            annotated_text += f\"{word} \"\n",
    "    return annotated_text\n",
    "\n",
    "# 示例文本\n",
    "text = \"Hello, how are you doing today?\"\n",
    "\n",
    "# 标注文本的音标\n",
    "annotated_text = annotate_with_phonetic(text)\n",
    "print(\"Annotated Text:\")\n",
    "print(annotated_text)\n"
   ]
  },
  {
   "cell_type": "code",
   "execution_count": 1,
   "id": "136149be-b4a1-41ac-ae3a-81e8c4135a4e",
   "metadata": {},
   "outputs": [
    {
     "name": "stderr",
     "output_type": "stream",
     "text": [
      "[nltk_data] Downloading package cmudict to\n",
      "[nltk_data]     /Users/chenjian/nltk_data...\n",
      "[nltk_data]   Package cmudict is already up-to-date!\n"
     ]
    },
    {
     "name": "stdout",
     "output_type": "stream",
     "text": [
      "hello , how are you doing today ?\n",
      "HH AH0 L OW1 UNK HH AW1 AA1 R Y UW1 D UW1 IH0 NG T AH0 D EY1 UNK\n",
      "i hope everything is going well .\n",
      "AY1 HH OW1 P EH1 V R IY0 TH IH2 NG IH1 Z G OW1 IH0 NG W EH1 L UNK\n",
      "\n"
     ]
    }
   ],
   "source": [
    "import nltk\n",
    "from nltk.corpus import cmudict\n",
    "\n",
    "# 下载 CMU 发音词典\n",
    "nltk.download('cmudict')\n",
    "\n",
    "# 初始化 CMU 发音词典\n",
    "cmu_dict = cmudict.dict()\n",
    "\n",
    "def get_pronunciation(word):\n",
    "    if word in cmu_dict:\n",
    "        return ' '.join(cmu_dict[word][0])\n",
    "    else:\n",
    "        return \"UNK\"\n",
    "\n",
    "def annotate_paragraph(paragraph):\n",
    "    annotated_lines = []\n",
    "    for sentence in nltk.sent_tokenize(paragraph):\n",
    "        words = nltk.word_tokenize(sentence.lower())\n",
    "        pronunciations = [get_pronunciation(word) for word in words]\n",
    "        annotated_sentence = ' '.join(words)\n",
    "        annotated_pronunciation = ' '.join(pronunciations)\n",
    "        annotated_lines.append(annotated_sentence)\n",
    "        annotated_lines.append(annotated_pronunciation)\n",
    "    return annotated_lines\n",
    "\n",
    "def format_annotated_paragraph(annotated_paragraph):\n",
    "    formatted_paragraph = ''\n",
    "    for i in range(0, len(annotated_paragraph), 2):\n",
    "        formatted_paragraph += annotated_paragraph[i] + '\\n' + annotated_paragraph[i+1] + '\\n'\n",
    "    return formatted_paragraph\n",
    "\n",
    "# 要标注的英文段落\n",
    "paragraph = \"Hello, how are you doing today? I hope everything is going well.\"\n",
    "\n",
    "# 标注段落\n",
    "annotated_paragraph = annotate_paragraph(paragraph)\n",
    "\n",
    "# 格式化并排版\n",
    "formatted_paragraph = format_annotated_paragraph(annotated_paragraph)\n",
    "\n",
    "print(formatted_paragraph)\n"
   ]
  }
 ],
 "metadata": {
  "kernelspec": {
   "display_name": "Python 3 (ipykernel)",
   "language": "python",
   "name": "python3"
  },
  "language_info": {
   "codemirror_mode": {
    "name": "ipython",
    "version": 3
   },
   "file_extension": ".py",
   "mimetype": "text/x-python",
   "name": "python",
   "nbconvert_exporter": "python",
   "pygments_lexer": "ipython3",
   "version": "3.11.7"
  }
 },
 "nbformat": 4,
 "nbformat_minor": 5
}
