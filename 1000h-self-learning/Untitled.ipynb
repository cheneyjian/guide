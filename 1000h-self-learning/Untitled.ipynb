{
 "cells": [
  {
   "cell_type": "code",
   "execution_count": 3,
   "id": "acd3c355-35ae-4928-91dc-bb601b66da5d",
   "metadata": {},
   "outputs": [
    {
     "name": "stderr",
     "output_type": "stream",
     "text": [
      "[nltk_data] Downloading package cmudict to\n",
      "[nltk_data]     /Users/chenjian/nltk_data...\n",
      "[nltk_data]   Package cmudict is already up-to-date!\n"
     ]
    },
    {
     "name": "stdout",
     "output_type": "stream",
     "text": [
      "Annotated Text:\n",
      "Hello HH AH0 L OW1 how HH AW1 are AA1 R you Y UW1 doing D UW1 IH0 NG today T AH0 D EY1 \n"
     ]
    }
   ],
   "source": [
    "import nltk\n",
    "from nltk.corpus import cmudict\n",
    "import re\n",
    "from pronouncing import phones_for_word\n",
    "\n",
    "# 下载cmudict数据\n",
    "nltk.download('cmudict')\n",
    "\n",
    "# 加载cmudict数据\n",
    "cmu_dict = cmudict.dict()\n",
    "\n",
    "# 函数：获取单词的音标\n",
    "def get_pronunciation(word):\n",
    "    if word.lower() in cmu_dict:\n",
    "        return cmu_dict[word.lower()]\n",
    "    else:\n",
    "        return None\n",
    "\n",
    "# 函数：标注文本的音标\n",
    "def annotate_with_phonetic(text):\n",
    "    words = re.findall(r'\\b\\w+\\b', text)\n",
    "    annotated_text = \"\"\n",
    "    for word in words:\n",
    "        pronunciation = get_pronunciation(word)\n",
    "        if pronunciation:\n",
    "            annotated_text += f\"{word} {' '.join(pronunciation[0])} \"\n",
    "        else:\n",
    "            annotated_text += f\"{word} \"\n",
    "    return annotated_text\n",
    "\n",
    "# 示例文本\n",
    "text = \"Hello, how are you doing today?\"\n",
    "\n",
    "# 标注文本的音标\n",
    "annotated_text = annotate_with_phonetic(text)\n",
    "print(\"Annotated Text:\")\n",
    "print(annotated_text)\n"
   ]
  },
  {
   "cell_type": "code",
   "execution_count": 5,
   "id": "136149be-b4a1-41ac-ae3a-81e8c4135a4e",
   "metadata": {},
   "outputs": [
    {
     "name": "stderr",
     "output_type": "stream",
     "text": [
      "[nltk_data] Downloading package cmudict to\n",
      "[nltk_data]     /Users/chenjian/nltk_data...\n",
      "[nltk_data]   Package cmudict is already up-to-date!\n"
     ]
    },
    {
     "name": "stdout",
     "output_type": "stream",
     "text": [
      "Annotated Text:\n",
      "Hello how are you doing today\n",
      "Phonetic Text:\n",
      "HH AH0 L OW1 HH AW1 AA1 R Y UW1 D UW1 IH0 NG T AH0 D EY1\n"
     ]
    }
   ],
   "source": [
    "import re\n",
    "import nltk\n",
    "from nltk.corpus import cmudict\n",
    "\n",
    "# 下载cmudict数据\n",
    "nltk.download('cmudict')\n",
    "\n",
    "# 加载cmudict数据\n",
    "cmu_dict = cmudict.dict()\n",
    "\n",
    "# 函数：获取单词的音标\n",
    "def get_pronunciation(word):\n",
    "    if word.lower() in cmu_dict:\n",
    "        return cmu_dict[word.lower()]\n",
    "    else:\n",
    "        return None\n",
    "\n",
    "# 函数：标注文本的音标\n",
    "def annotate_with_phonetic(text):\n",
    "    words = re.findall(r'\\b\\w+\\b', text)\n",
    "    annotated_text = \"\"\n",
    "    pronunciations = \"\"\n",
    "    for word in words:\n",
    "        pronunciation = get_pronunciation(word)\n",
    "        if pronunciation:\n",
    "            annotated_text += f\"{word} \"\n",
    "            pronunciations += f\"{' '.join(pronunciation[0])} \"\n",
    "        else:\n",
    "            annotated_text += f\"{word} \"\n",
    "            pronunciations += \" \" * len(word) + \" \"\n",
    "    return annotated_text.strip(), pronunciations.strip()\n",
    "\n",
    "# 示例文本\n",
    "text = \"Hello, how are you doing today?\"\n",
    "\n",
    "# 标注文本的音标\n",
    "annotated_text, phonetic_text = annotate_with_phonetic(text)\n",
    "print(\"Annotated Text:\")\n",
    "print(annotated_text)\n",
    "print(\"Phonetic Text:\")\n",
    "print(phonetic_text)\n"
   ]
  },
  {
   "cell_type": "code",
   "execution_count": 6,
   "id": "908f2a14-57e4-44c9-a795-159eb280b9f7",
   "metadata": {},
   "outputs": [
    {
     "name": "stderr",
     "output_type": "stream",
     "text": [
      "[nltk_data] Downloading package cmudict to\n",
      "[nltk_data]     /Users/chenjian/nltk_data...\n",
      "[nltk_data]   Package cmudict is already up-to-date!\n"
     ]
    },
    {
     "name": "stdout",
     "output_type": "stream",
     "text": [
      "How are you doing today?\n",
      "HH AW1 AA1 R Y UW1 D UW1 IH0 NG T AH0 D EY1 UNK\n"
     ]
    }
   ],
   "source": [
    "import nltk\n",
    "from nltk.corpus import cmudict\n",
    "\n",
    "# 下载 CMU 发音词典\n",
    "nltk.download('cmudict')\n",
    "\n",
    "# 初始化 CMU 发音词典\n",
    "cmu_dict = cmudict.dict()\n",
    "\n",
    "def get_pronunciation(sentence):\n",
    "    words = nltk.word_tokenize(sentence.lower())\n",
    "    pronunciation = []\n",
    "    for word in words:\n",
    "        if word in cmu_dict:\n",
    "            pronunciation.append(' '.join(cmu_dict[word][0]))\n",
    "        else:\n",
    "            pronunciation.append(\"UNK\")\n",
    "    return pronunciation\n",
    "\n",
    "def format_with_pronunciation(sentence, pronunciation):\n",
    "    return f\"{sentence}\\n{' '.join(pronunciation)}\"\n",
    "\n",
    "def annotate_and_format_sentence(sentence):\n",
    "    pronunciation = get_pronunciation(sentence)\n",
    "    return format_with_pronunciation(sentence, pronunciation)\n",
    "\n",
    "# 例句\n",
    "sentence = \"How are you doing today?\"\n",
    "\n",
    "# 标注和排版\n",
    "annotated_sentence = annotate_and_format_sentence(sentence)\n",
    "print(annotated_sentence)\n"
   ]
  },
  {
   "cell_type": "code",
   "execution_count": null,
   "id": "8f6554c6-8716-4bc5-88f8-4a3f5a761e71",
   "metadata": {},
   "outputs": [],
   "source": []
  }
 ],
 "metadata": {
  "kernelspec": {
   "display_name": "Python 3 (ipykernel)",
   "language": "python",
   "name": "python3"
  },
  "language_info": {
   "codemirror_mode": {
    "name": "ipython",
    "version": 3
   },
   "file_extension": ".py",
   "mimetype": "text/x-python",
   "name": "python",
   "nbconvert_exporter": "python",
   "pygments_lexer": "ipython3",
   "version": "3.11.7"
  }
 },
 "nbformat": 4,
 "nbformat_minor": 5
}
